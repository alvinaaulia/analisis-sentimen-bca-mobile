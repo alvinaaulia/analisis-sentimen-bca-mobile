{
  "nbformat": 4,
  "nbformat_minor": 0,
  "metadata": {
    "colab": {
      "provenance": [],
      "collapsed_sections": [
        "mKO2RGb4Wtoh",
        "L4kmqGBm6N12",
        "xobxcDjd8D3s",
        "-tZ_3j0qG0MX",
        "bYLKRzdSGwlQ",
        "XqcK0aa5G6oE",
        "GlcsE2FzHDzu",
        "DWe8ePmKHLqq",
        "_Stg7TawwC4L",
        "eHL-yC2FwMwx",
        "GD-l5Ma0wVm3"
      ]
    },
    "kernelspec": {
      "name": "python3",
      "display_name": "Python 3"
    },
    "language_info": {
      "name": "python"
    }
  },
  "cells": [
    {
      "cell_type": "markdown",
      "source": [
        "###Import Library"
      ],
      "metadata": {
        "id": "mKO2RGb4Wtoh"
      }
    },
    {
      "cell_type": "code",
      "source": [
        "import pandas as pd\n",
        "import numpy as np\n",
        "import re\n",
        "import csv\n",
        "import string\n",
        "import requests\n",
        "from io import StringIO\n",
        "\n",
        "from nltk.tokenize import word_tokenize\n",
        "from nltk.corpus import stopwords\n",
        "\n",
        "from Sastrawi.Stemmer.StemmerFactory import StemmerFactory\n",
        "\n",
        "from sklearn.svm import SVC\n",
        "from sklearn.model_selection import train_test_split\n",
        "from sklearn.preprocessing import LabelEncoder\n",
        "from sklearn.metrics import accuracy_score\n",
        "from sklearn.feature_extraction.text import TfidfVectorizer\n",
        "\n",
        "import tensorflow as tf\n",
        "from tensorflow.keras.preprocessing.text import Tokenizer\n",
        "from tensorflow.keras.preprocessing.sequence import pad_sequences\n",
        "from tensorflow.keras.models import Sequential\n",
        "from tensorflow.keras.layers import Embedding, LSTM, Dense, Dropout, Bidirectional, Conv1D, MaxPooling1D\n",
        "from tensorflow.keras.utils import to_categorical\n",
        "\n",
        "from gensim.models import Word2Vec\n",
        "import matplotlib.pyplot as plt\n",
        "import seaborn as sns\n",
        "\n",
        "import nltk\n",
        "nltk.download('punkt_tab')\n",
        "nltk.download('stopwords')"
      ],
      "metadata": {
        "id": "EFlTis_s5pM_",
        "colab": {
          "base_uri": "https://localhost:8080/"
        },
        "outputId": "56ada76e-a41a-4fa4-9454-51f536e54960"
      },
      "execution_count": 3,
      "outputs": [
        {
          "output_type": "stream",
          "name": "stderr",
          "text": [
            "[nltk_data] Downloading package punkt_tab to /root/nltk_data...\n",
            "[nltk_data]   Package punkt_tab is already up-to-date!\n",
            "[nltk_data] Downloading package stopwords to /root/nltk_data...\n",
            "[nltk_data]   Package stopwords is already up-to-date!\n"
          ]
        },
        {
          "output_type": "execute_result",
          "data": {
            "text/plain": [
              "True"
            ]
          },
          "metadata": {},
          "execution_count": 3
        }
      ]
    },
    {
      "cell_type": "markdown",
      "source": [
        "###Loading Dataset"
      ],
      "metadata": {
        "id": "L4kmqGBm6N12"
      }
    },
    {
      "cell_type": "code",
      "source": [
        "df = pd.read_csv('ulasan_aplikasi.csv')\n",
        "df.shape"
      ],
      "metadata": {
        "colab": {
          "base_uri": "https://localhost:8080/"
        },
        "id": "conNeR0H6Qm_",
        "outputId": "c54f42d9-177b-40d0-dcca-93a79ad65c4a"
      },
      "execution_count": 4,
      "outputs": [
        {
          "output_type": "execute_result",
          "data": {
            "text/plain": [
              "(247500, 1)"
            ]
          },
          "metadata": {},
          "execution_count": 4
        }
      ]
    },
    {
      "cell_type": "code",
      "source": [
        "df.head()"
      ],
      "metadata": {
        "colab": {
          "base_uri": "https://localhost:8080/",
          "height": 206
        },
        "id": "Jw9XR7rD6vWU",
        "outputId": "6262d6a7-02c8-4cf8-c178-90e5c2cab1d4"
      },
      "execution_count": 5,
      "outputs": [
        {
          "output_type": "execute_result",
          "data": {
            "text/plain": [
              "                                              Review\n",
              "0  saya beralih dari myBCA ke aplikasi BCA mobile...\n",
              "1  aplikasinya oke bgt kok nggak ada komplain apa...\n",
              "2  Aplikasi kenapa gak bisa di pakai padahal suda...\n",
              "3  u/ versi 4.62 Di menu transfer sesama Bank, un...\n",
              "4  tolong segera diperbaiki ya, Bank BCA, agar ti..."
            ],
            "text/html": [
              "\n",
              "  <div id=\"df-ea865a68-90bb-4371-82e8-511b40a5996b\" class=\"colab-df-container\">\n",
              "    <div>\n",
              "<style scoped>\n",
              "    .dataframe tbody tr th:only-of-type {\n",
              "        vertical-align: middle;\n",
              "    }\n",
              "\n",
              "    .dataframe tbody tr th {\n",
              "        vertical-align: top;\n",
              "    }\n",
              "\n",
              "    .dataframe thead th {\n",
              "        text-align: right;\n",
              "    }\n",
              "</style>\n",
              "<table border=\"1\" class=\"dataframe\">\n",
              "  <thead>\n",
              "    <tr style=\"text-align: right;\">\n",
              "      <th></th>\n",
              "      <th>Review</th>\n",
              "    </tr>\n",
              "  </thead>\n",
              "  <tbody>\n",
              "    <tr>\n",
              "      <th>0</th>\n",
              "      <td>saya beralih dari myBCA ke aplikasi BCA mobile...</td>\n",
              "    </tr>\n",
              "    <tr>\n",
              "      <th>1</th>\n",
              "      <td>aplikasinya oke bgt kok nggak ada komplain apa...</td>\n",
              "    </tr>\n",
              "    <tr>\n",
              "      <th>2</th>\n",
              "      <td>Aplikasi kenapa gak bisa di pakai padahal suda...</td>\n",
              "    </tr>\n",
              "    <tr>\n",
              "      <th>3</th>\n",
              "      <td>u/ versi 4.62 Di menu transfer sesama Bank, un...</td>\n",
              "    </tr>\n",
              "    <tr>\n",
              "      <th>4</th>\n",
              "      <td>tolong segera diperbaiki ya, Bank BCA, agar ti...</td>\n",
              "    </tr>\n",
              "  </tbody>\n",
              "</table>\n",
              "</div>\n",
              "    <div class=\"colab-df-buttons\">\n",
              "\n",
              "  <div class=\"colab-df-container\">\n",
              "    <button class=\"colab-df-convert\" onclick=\"convertToInteractive('df-ea865a68-90bb-4371-82e8-511b40a5996b')\"\n",
              "            title=\"Convert this dataframe to an interactive table.\"\n",
              "            style=\"display:none;\">\n",
              "\n",
              "  <svg xmlns=\"http://www.w3.org/2000/svg\" height=\"24px\" viewBox=\"0 -960 960 960\">\n",
              "    <path d=\"M120-120v-720h720v720H120Zm60-500h600v-160H180v160Zm220 220h160v-160H400v160Zm0 220h160v-160H400v160ZM180-400h160v-160H180v160Zm440 0h160v-160H620v160ZM180-180h160v-160H180v160Zm440 0h160v-160H620v160Z\"/>\n",
              "  </svg>\n",
              "    </button>\n",
              "\n",
              "  <style>\n",
              "    .colab-df-container {\n",
              "      display:flex;\n",
              "      gap: 12px;\n",
              "    }\n",
              "\n",
              "    .colab-df-convert {\n",
              "      background-color: #E8F0FE;\n",
              "      border: none;\n",
              "      border-radius: 50%;\n",
              "      cursor: pointer;\n",
              "      display: none;\n",
              "      fill: #1967D2;\n",
              "      height: 32px;\n",
              "      padding: 0 0 0 0;\n",
              "      width: 32px;\n",
              "    }\n",
              "\n",
              "    .colab-df-convert:hover {\n",
              "      background-color: #E2EBFA;\n",
              "      box-shadow: 0px 1px 2px rgba(60, 64, 67, 0.3), 0px 1px 3px 1px rgba(60, 64, 67, 0.15);\n",
              "      fill: #174EA6;\n",
              "    }\n",
              "\n",
              "    .colab-df-buttons div {\n",
              "      margin-bottom: 4px;\n",
              "    }\n",
              "\n",
              "    [theme=dark] .colab-df-convert {\n",
              "      background-color: #3B4455;\n",
              "      fill: #D2E3FC;\n",
              "    }\n",
              "\n",
              "    [theme=dark] .colab-df-convert:hover {\n",
              "      background-color: #434B5C;\n",
              "      box-shadow: 0px 1px 3px 1px rgba(0, 0, 0, 0.15);\n",
              "      filter: drop-shadow(0px 1px 2px rgba(0, 0, 0, 0.3));\n",
              "      fill: #FFFFFF;\n",
              "    }\n",
              "  </style>\n",
              "\n",
              "    <script>\n",
              "      const buttonEl =\n",
              "        document.querySelector('#df-ea865a68-90bb-4371-82e8-511b40a5996b button.colab-df-convert');\n",
              "      buttonEl.style.display =\n",
              "        google.colab.kernel.accessAllowed ? 'block' : 'none';\n",
              "\n",
              "      async function convertToInteractive(key) {\n",
              "        const element = document.querySelector('#df-ea865a68-90bb-4371-82e8-511b40a5996b');\n",
              "        const dataTable =\n",
              "          await google.colab.kernel.invokeFunction('convertToInteractive',\n",
              "                                                    [key], {});\n",
              "        if (!dataTable) return;\n",
              "\n",
              "        const docLinkHtml = 'Like what you see? Visit the ' +\n",
              "          '<a target=\"_blank\" href=https://colab.research.google.com/notebooks/data_table.ipynb>data table notebook</a>'\n",
              "          + ' to learn more about interactive tables.';\n",
              "        element.innerHTML = '';\n",
              "        dataTable['output_type'] = 'display_data';\n",
              "        await google.colab.output.renderOutput(dataTable, element);\n",
              "        const docLink = document.createElement('div');\n",
              "        docLink.innerHTML = docLinkHtml;\n",
              "        element.appendChild(docLink);\n",
              "      }\n",
              "    </script>\n",
              "  </div>\n",
              "\n",
              "\n",
              "    <div id=\"df-ec99e5a2-70d3-4b95-a4cf-8f00c5709485\">\n",
              "      <button class=\"colab-df-quickchart\" onclick=\"quickchart('df-ec99e5a2-70d3-4b95-a4cf-8f00c5709485')\"\n",
              "                title=\"Suggest charts\"\n",
              "                style=\"display:none;\">\n",
              "\n",
              "<svg xmlns=\"http://www.w3.org/2000/svg\" height=\"24px\"viewBox=\"0 0 24 24\"\n",
              "     width=\"24px\">\n",
              "    <g>\n",
              "        <path d=\"M19 3H5c-1.1 0-2 .9-2 2v14c0 1.1.9 2 2 2h14c1.1 0 2-.9 2-2V5c0-1.1-.9-2-2-2zM9 17H7v-7h2v7zm4 0h-2V7h2v10zm4 0h-2v-4h2v4z\"/>\n",
              "    </g>\n",
              "</svg>\n",
              "      </button>\n",
              "\n",
              "<style>\n",
              "  .colab-df-quickchart {\n",
              "      --bg-color: #E8F0FE;\n",
              "      --fill-color: #1967D2;\n",
              "      --hover-bg-color: #E2EBFA;\n",
              "      --hover-fill-color: #174EA6;\n",
              "      --disabled-fill-color: #AAA;\n",
              "      --disabled-bg-color: #DDD;\n",
              "  }\n",
              "\n",
              "  [theme=dark] .colab-df-quickchart {\n",
              "      --bg-color: #3B4455;\n",
              "      --fill-color: #D2E3FC;\n",
              "      --hover-bg-color: #434B5C;\n",
              "      --hover-fill-color: #FFFFFF;\n",
              "      --disabled-bg-color: #3B4455;\n",
              "      --disabled-fill-color: #666;\n",
              "  }\n",
              "\n",
              "  .colab-df-quickchart {\n",
              "    background-color: var(--bg-color);\n",
              "    border: none;\n",
              "    border-radius: 50%;\n",
              "    cursor: pointer;\n",
              "    display: none;\n",
              "    fill: var(--fill-color);\n",
              "    height: 32px;\n",
              "    padding: 0;\n",
              "    width: 32px;\n",
              "  }\n",
              "\n",
              "  .colab-df-quickchart:hover {\n",
              "    background-color: var(--hover-bg-color);\n",
              "    box-shadow: 0 1px 2px rgba(60, 64, 67, 0.3), 0 1px 3px 1px rgba(60, 64, 67, 0.15);\n",
              "    fill: var(--button-hover-fill-color);\n",
              "  }\n",
              "\n",
              "  .colab-df-quickchart-complete:disabled,\n",
              "  .colab-df-quickchart-complete:disabled:hover {\n",
              "    background-color: var(--disabled-bg-color);\n",
              "    fill: var(--disabled-fill-color);\n",
              "    box-shadow: none;\n",
              "  }\n",
              "\n",
              "  .colab-df-spinner {\n",
              "    border: 2px solid var(--fill-color);\n",
              "    border-color: transparent;\n",
              "    border-bottom-color: var(--fill-color);\n",
              "    animation:\n",
              "      spin 1s steps(1) infinite;\n",
              "  }\n",
              "\n",
              "  @keyframes spin {\n",
              "    0% {\n",
              "      border-color: transparent;\n",
              "      border-bottom-color: var(--fill-color);\n",
              "      border-left-color: var(--fill-color);\n",
              "    }\n",
              "    20% {\n",
              "      border-color: transparent;\n",
              "      border-left-color: var(--fill-color);\n",
              "      border-top-color: var(--fill-color);\n",
              "    }\n",
              "    30% {\n",
              "      border-color: transparent;\n",
              "      border-left-color: var(--fill-color);\n",
              "      border-top-color: var(--fill-color);\n",
              "      border-right-color: var(--fill-color);\n",
              "    }\n",
              "    40% {\n",
              "      border-color: transparent;\n",
              "      border-right-color: var(--fill-color);\n",
              "      border-top-color: var(--fill-color);\n",
              "    }\n",
              "    60% {\n",
              "      border-color: transparent;\n",
              "      border-right-color: var(--fill-color);\n",
              "    }\n",
              "    80% {\n",
              "      border-color: transparent;\n",
              "      border-right-color: var(--fill-color);\n",
              "      border-bottom-color: var(--fill-color);\n",
              "    }\n",
              "    90% {\n",
              "      border-color: transparent;\n",
              "      border-bottom-color: var(--fill-color);\n",
              "    }\n",
              "  }\n",
              "</style>\n",
              "\n",
              "      <script>\n",
              "        async function quickchart(key) {\n",
              "          const quickchartButtonEl =\n",
              "            document.querySelector('#' + key + ' button');\n",
              "          quickchartButtonEl.disabled = true;  // To prevent multiple clicks.\n",
              "          quickchartButtonEl.classList.add('colab-df-spinner');\n",
              "          try {\n",
              "            const charts = await google.colab.kernel.invokeFunction(\n",
              "                'suggestCharts', [key], {});\n",
              "          } catch (error) {\n",
              "            console.error('Error during call to suggestCharts:', error);\n",
              "          }\n",
              "          quickchartButtonEl.classList.remove('colab-df-spinner');\n",
              "          quickchartButtonEl.classList.add('colab-df-quickchart-complete');\n",
              "        }\n",
              "        (() => {\n",
              "          let quickchartButtonEl =\n",
              "            document.querySelector('#df-ec99e5a2-70d3-4b95-a4cf-8f00c5709485 button');\n",
              "          quickchartButtonEl.style.display =\n",
              "            google.colab.kernel.accessAllowed ? 'block' : 'none';\n",
              "        })();\n",
              "      </script>\n",
              "    </div>\n",
              "\n",
              "    </div>\n",
              "  </div>\n"
            ],
            "application/vnd.google.colaboratory.intrinsic+json": {
              "type": "dataframe",
              "variable_name": "df"
            }
          },
          "metadata": {},
          "execution_count": 5
        }
      ]
    },
    {
      "cell_type": "code",
      "source": [
        "df.info()"
      ],
      "metadata": {
        "colab": {
          "base_uri": "https://localhost:8080/"
        },
        "id": "u96DRTJ97RS6",
        "outputId": "699ee9eb-14f3-41a7-d22f-4ff8f41383cc"
      },
      "execution_count": 6,
      "outputs": [
        {
          "output_type": "stream",
          "name": "stdout",
          "text": [
            "<class 'pandas.core.frame.DataFrame'>\n",
            "RangeIndex: 247500 entries, 0 to 247499\n",
            "Data columns (total 1 columns):\n",
            " #   Column  Non-Null Count   Dtype \n",
            "---  ------  --------------   ----- \n",
            " 0   Review  247499 non-null  object\n",
            "dtypes: object(1)\n",
            "memory usage: 1.9+ MB\n"
          ]
        }
      ]
    },
    {
      "cell_type": "code",
      "source": [
        "df.isna().sum()"
      ],
      "metadata": {
        "colab": {
          "base_uri": "https://localhost:8080/",
          "height": 115
        },
        "id": "rw_nXm3I-iFL",
        "outputId": "9e78beab-55ef-4530-887a-f096d217e8e3"
      },
      "execution_count": 7,
      "outputs": [
        {
          "output_type": "execute_result",
          "data": {
            "text/plain": [
              "Review    1\n",
              "dtype: int64"
            ],
            "text/html": [
              "<div>\n",
              "<style scoped>\n",
              "    .dataframe tbody tr th:only-of-type {\n",
              "        vertical-align: middle;\n",
              "    }\n",
              "\n",
              "    .dataframe tbody tr th {\n",
              "        vertical-align: top;\n",
              "    }\n",
              "\n",
              "    .dataframe thead th {\n",
              "        text-align: right;\n",
              "    }\n",
              "</style>\n",
              "<table border=\"1\" class=\"dataframe\">\n",
              "  <thead>\n",
              "    <tr style=\"text-align: right;\">\n",
              "      <th></th>\n",
              "      <th>0</th>\n",
              "    </tr>\n",
              "  </thead>\n",
              "  <tbody>\n",
              "    <tr>\n",
              "      <th>Review</th>\n",
              "      <td>1</td>\n",
              "    </tr>\n",
              "  </tbody>\n",
              "</table>\n",
              "</div><br><label><b>dtype:</b> int64</label>"
            ]
          },
          "metadata": {},
          "execution_count": 7
        }
      ]
    },
    {
      "cell_type": "code",
      "source": [
        "df.duplicated().sum()"
      ],
      "metadata": {
        "colab": {
          "base_uri": "https://localhost:8080/"
        },
        "id": "iI3DhO7L-nmw",
        "outputId": "94f5f646-dd88-471f-82fb-a2ef969da358"
      },
      "execution_count": 8,
      "outputs": [
        {
          "output_type": "execute_result",
          "data": {
            "text/plain": [
              "91437"
            ]
          },
          "metadata": {},
          "execution_count": 8
        }
      ]
    },
    {
      "cell_type": "code",
      "source": [
        "clean_df = df.dropna()"
      ],
      "metadata": {
        "id": "eFDL9iz77Z4V"
      },
      "execution_count": 9,
      "outputs": []
    },
    {
      "cell_type": "code",
      "source": [
        "clean_df = clean_df.drop_duplicates()"
      ],
      "metadata": {
        "id": "U9G3y8eE7yts"
      },
      "execution_count": 10,
      "outputs": []
    },
    {
      "cell_type": "code",
      "source": [
        "clean_df.info()"
      ],
      "metadata": {
        "colab": {
          "base_uri": "https://localhost:8080/"
        },
        "id": "VNy2MLIQ70lt",
        "outputId": "72f91992-e9e3-4417-f4e4-2f77c63f0f41"
      },
      "execution_count": 11,
      "outputs": [
        {
          "output_type": "stream",
          "name": "stdout",
          "text": [
            "<class 'pandas.core.frame.DataFrame'>\n",
            "Index: 156062 entries, 0 to 247499\n",
            "Data columns (total 1 columns):\n",
            " #   Column  Non-Null Count   Dtype \n",
            "---  ------  --------------   ----- \n",
            " 0   Review  156062 non-null  object\n",
            "dtypes: object(1)\n",
            "memory usage: 2.4+ MB\n"
          ]
        }
      ]
    },
    {
      "cell_type": "markdown",
      "source": [
        "###Preprocessing Text"
      ],
      "metadata": {
        "id": "xobxcDjd8D3s"
      }
    },
    {
      "cell_type": "code",
      "source": [
        "def cleaningText(text):\n",
        "    text = re.sub(r'@[A-Za-z0-9]+', '', text)\n",
        "    text = re.sub(r'#[A-Za-z0-9]+', '', text)\n",
        "    text = re.sub(r'RT[\\s]', '', text)\n",
        "    text = re.sub(r\"http\\S+\", '', text)\n",
        "    text = re.sub(r'[0-9]+', '', text)\n",
        "    text = re.sub(r'[^\\w\\s]', '', text)\n",
        "\n",
        "    text = text.replace('\\n', ' ')\n",
        "    text = text.translate(str.maketrans('', '', string.punctuation))\n",
        "    text = text.strip(' ')\n",
        "    return text\n",
        "\n",
        "def casefoldingText(text):\n",
        "    return text.lower()\n",
        "\n",
        "def tokenizingText(text):\n",
        "    return word_tokenize(text)\n",
        "\n",
        "def filteringText(text):\n",
        "    listStopwords = set(stopwords.words('indonesian') + stopwords.words('english'))\n",
        "    listStopwords.update(['iya','yaa','gak','nya','na','sih','ku',\"di\",\"ga\",\"ya\",\"gaa\",\"loh\",\"kah\",\"woi\",\"woii\",\"woy\"])\n",
        "    filtered = [txt for txt in text if txt not in listStopwords]\n",
        "    return filtered\n",
        "\n",
        "def toSentence(list_words):\n",
        "    return ' '.join(list_words)"
      ],
      "metadata": {
        "id": "D3oaTU_H8HOc"
      },
      "execution_count": 12,
      "outputs": []
    },
    {
      "cell_type": "code",
      "source": [
        "slangwords = {\"@\": \"di\", \"abis\": \"habis\", \"wtb\": \"beli\", \"masi\": \"masih\", \"wts\": \"jual\", \"wtt\": \"tukar\", \"bgt\": \"banget\", \"maks\": \"maksimal\"}\n",
        "\n",
        "def fix_slangwords(text):\n",
        "    words = text.split()\n",
        "    fixed_words = [slangwords.get(word.lower(), word) for word in words]\n",
        "    return ' '.join(fixed_words)"
      ],
      "metadata": {
        "id": "coDeeIq5_Q1_"
      },
      "execution_count": 13,
      "outputs": []
    },
    {
      "cell_type": "code",
      "source": [
        "clean_df['text_clean'] = clean_df['Review'].apply(cleaningText)\n",
        "clean_df['text_casefolding'] = clean_df['text_clean'].apply(casefoldingText)\n",
        "clean_df['text_slangwords'] = clean_df['text_casefolding'].apply(fix_slangwords)\n",
        "clean_df['text_tokenizing'] = clean_df['text_slangwords'].apply(tokenizingText)\n",
        "clean_df['text_stopword'] = clean_df['text_tokenizing'].apply(filteringText)\n",
        "clean_df['text_akhir'] = clean_df['text_stopword'].apply(toSentence)"
      ],
      "metadata": {
        "id": "ql8GNfJM_jHI"
      },
      "execution_count": 14,
      "outputs": []
    },
    {
      "cell_type": "markdown",
      "source": [
        "###Pelabelan"
      ],
      "metadata": {
        "id": "-tZ_3j0qG0MX"
      }
    },
    {
      "cell_type": "code",
      "source": [
        "lexicon_positive = {}\n",
        "response = requests.get('https://raw.githubusercontent.com/angelmetanosaa/dataset/main/lexicon_positive.csv')\n",
        "if response.status_code == 200:\n",
        "    reader = csv.reader(StringIO(response.text), delimiter=',')\n",
        "    for row in reader:\n",
        "        lexicon_positive[row[0]] = int(row[1])\n",
        "\n",
        "lexicon_negative = {}\n",
        "response = requests.get('https://raw.githubusercontent.com/angelmetanosaa/dataset/main/lexicon_negative.csv')\n",
        "if response.status_code == 200:\n",
        "    reader = csv.reader(StringIO(response.text), delimiter=',')\n",
        "    for row in reader:\n",
        "        lexicon_negative[row[0]] = int(row[1])"
      ],
      "metadata": {
        "id": "y27Ff9AGDHj7"
      },
      "execution_count": 15,
      "outputs": []
    },
    {
      "cell_type": "code",
      "source": [
        "def sentiment_analysis_lexicon_indonesia(text):\n",
        "    score = 0\n",
        "\n",
        "    for word in text:\n",
        "        if (word in lexicon_positive):\n",
        "            score = score + lexicon_positive[word]\n",
        "\n",
        "    for word in text:\n",
        "        if (word in lexicon_negative):\n",
        "            score = score + lexicon_negative[word]\n",
        "\n",
        "    polarity=''\n",
        "\n",
        "    if (score >= 0):\n",
        "        polarity = 'positive'\n",
        "    elif (score < 0):\n",
        "        polarity = 'negative'\n",
        "    else :\n",
        "        polarity = 'neutral'\n",
        "\n",
        "    return score, polarity"
      ],
      "metadata": {
        "id": "H1UA9bNGEfmS"
      },
      "execution_count": 39,
      "outputs": []
    },
    {
      "cell_type": "code",
      "source": [
        "results = clean_df['text_stopword'].apply(sentiment_analysis_lexicon_indonesia)\n",
        "results = list(zip(*results))\n",
        "clean_df['polarity_score'] = results[0]\n",
        "clean_df['polarity'] = results[1]\n",
        "\n",
        "print(clean_df['polarity'].value_counts())"
      ],
      "metadata": {
        "colab": {
          "base_uri": "https://localhost:8080/"
        },
        "id": "kg1ZqG_7GG4-",
        "outputId": "edc46474-9e45-46b2-ef25-f7c40baef815"
      },
      "execution_count": 40,
      "outputs": [
        {
          "output_type": "stream",
          "name": "stdout",
          "text": [
            "polarity\n",
            "positive    96704\n",
            "negative    59358\n",
            "Name: count, dtype: int64\n"
          ]
        }
      ]
    },
    {
      "cell_type": "code",
      "source": [
        "tokenizer = Tokenizer(num_words=10000)\n",
        "tokenizer.fit_on_texts(clean_df['text_akhir'])\n",
        "\n",
        "X_seq = tokenizer.texts_to_sequences(clean_df['text_akhir'])\n",
        "X_pad = pad_sequences(X_seq, maxlen=200)"
      ],
      "metadata": {
        "id": "EWE6fG7zGjxx"
      },
      "execution_count": 41,
      "outputs": []
    },
    {
      "cell_type": "code",
      "source": [
        "label_encoder = LabelEncoder()\n",
        "y_encoded = label_encoder.fit_transform(clean_df['polarity'])\n",
        "y_categorical = to_categorical(y_encoded)"
      ],
      "metadata": {
        "id": "mDsVwakhGnbj"
      },
      "execution_count": 42,
      "outputs": []
    },
    {
      "cell_type": "markdown",
      "source": [
        "###Modeling"
      ],
      "metadata": {
        "id": "57YAxGhYHlat"
      }
    },
    {
      "cell_type": "markdown",
      "source": [
        "####LSTM + Tokenizer"
      ],
      "metadata": {
        "id": "bYLKRzdSGwlQ"
      }
    },
    {
      "cell_type": "code",
      "source": [
        "X_train1, X_test1, y_train1, y_test1 = train_test_split(X_pad, y_categorical, test_size=0.2, random_state=42)\n",
        "\n",
        "model1 = Sequential()\n",
        "model1.add(Embedding(input_dim=10000, output_dim=128, input_shape=(200,)))\n",
        "model1.add(LSTM(128))\n",
        "model1.add(Dropout(0.5))\n",
        "model1.add(Dense(2, activation='softmax'))\n",
        "\n",
        "model1.compile(loss='categorical_crossentropy', optimizer='adam', metrics=['accuracy'])\n",
        "model1.fit(X_train1, y_train1, epochs=10, batch_size=64, validation_data=(X_test1, y_test1))\n",
        "\n",
        "loss1_train, acc1_train = model1.evaluate(X_train1, y_train1, verbose=0)\n",
        "loss1_test, acc1_test = model1.evaluate(X_test1, y_test1, verbose=0)\n",
        "print(f\"Akurasi Training: {acc1_train*100:.2f}%\")\n",
        "print(f\"Akurasi Testing: {acc1_test*100:.2f}%\")"
      ],
      "metadata": {
        "colab": {
          "base_uri": "https://localhost:8080/"
        },
        "id": "G8e3yiOGGzpO",
        "outputId": "2e0aba48-e84e-4519-90a0-4d50397928a5"
      },
      "execution_count": 20,
      "outputs": [
        {
          "metadata": {
            "tags": null
          },
          "name": "stderr",
          "output_type": "stream",
          "text": [
            "/usr/local/lib/python3.11/dist-packages/keras/src/layers/core/embedding.py:93: UserWarning: Do not pass an `input_shape`/`input_dim` argument to a layer. When using Sequential models, prefer using an `Input(shape)` object as the first layer in the model instead.\n",
            "  super().__init__(**kwargs)\n"
          ]
        },
        {
          "output_type": "stream",
          "name": "stdout",
          "text": [
            "Epoch 1/10\n",
            "\u001b[1m1951/1951\u001b[0m \u001b[32m━━━━━━━━━━━━━━━━━━━━\u001b[0m\u001b[37m\u001b[0m \u001b[1m980s\u001b[0m 501ms/step - accuracy: 0.8927 - loss: 0.2430 - val_accuracy: 0.9690 - val_loss: 0.0859\n",
            "Epoch 2/10\n",
            "\u001b[1m1951/1951\u001b[0m \u001b[32m━━━━━━━━━━━━━━━━━━━━\u001b[0m\u001b[37m\u001b[0m \u001b[1m1000s\u001b[0m 513ms/step - accuracy: 0.9767 - loss: 0.0658 - val_accuracy: 0.9725 - val_loss: 0.0753\n",
            "Epoch 3/10\n",
            "\u001b[1m1951/1951\u001b[0m \u001b[32m━━━━━━━━━━━━━━━━━━━━\u001b[0m\u001b[37m\u001b[0m \u001b[1m992s\u001b[0m 509ms/step - accuracy: 0.9855 - loss: 0.0433 - val_accuracy: 0.9749 - val_loss: 0.0777\n",
            "Epoch 4/10\n",
            "\u001b[1m1951/1951\u001b[0m \u001b[32m━━━━━━━━━━━━━━━━━━━━\u001b[0m\u001b[37m\u001b[0m \u001b[1m1042s\u001b[0m 509ms/step - accuracy: 0.9892 - loss: 0.0329 - val_accuracy: 0.9724 - val_loss: 0.0854\n",
            "Epoch 5/10\n",
            "\u001b[1m1951/1951\u001b[0m \u001b[32m━━━━━━━━━━━━━━━━━━━━\u001b[0m\u001b[37m\u001b[0m \u001b[1m1039s\u001b[0m 507ms/step - accuracy: 0.9917 - loss: 0.0260 - val_accuracy: 0.9770 - val_loss: 0.0900\n",
            "Epoch 6/10\n",
            "\u001b[1m1951/1951\u001b[0m \u001b[32m━━━━━━━━━━━━━━━━━━━━\u001b[0m\u001b[37m\u001b[0m \u001b[1m996s\u001b[0m 511ms/step - accuracy: 0.9937 - loss: 0.0199 - val_accuracy: 0.9740 - val_loss: 0.1079\n",
            "Epoch 7/10\n",
            "\u001b[1m1951/1951\u001b[0m \u001b[32m━━━━━━━━━━━━━━━━━━━━\u001b[0m\u001b[37m\u001b[0m \u001b[1m1041s\u001b[0m 510ms/step - accuracy: 0.9951 - loss: 0.0176 - val_accuracy: 0.9746 - val_loss: 0.1118\n",
            "Epoch 8/10\n",
            "\u001b[1m1951/1951\u001b[0m \u001b[32m━━━━━━━━━━━━━━━━━━━━\u001b[0m\u001b[37m\u001b[0m \u001b[1m988s\u001b[0m 506ms/step - accuracy: 0.9952 - loss: 0.0156 - val_accuracy: 0.9722 - val_loss: 0.1206\n",
            "Epoch 9/10\n",
            "\u001b[1m1951/1951\u001b[0m \u001b[32m━━━━━━━━━━━━━━━━━━━━\u001b[0m\u001b[37m\u001b[0m \u001b[1m999s\u001b[0m 512ms/step - accuracy: 0.9964 - loss: 0.0126 - val_accuracy: 0.9725 - val_loss: 0.1360\n",
            "Epoch 10/10\n",
            "\u001b[1m1951/1951\u001b[0m \u001b[32m━━━━━━━━━━━━━━━━━━━━\u001b[0m\u001b[37m\u001b[0m \u001b[1m1047s\u001b[0m 514ms/step - accuracy: 0.9969 - loss: 0.0111 - val_accuracy: 0.9742 - val_loss: 0.1430\n",
            "Akurasi Training: 99.84%\n",
            "Akurasi Testing: 97.42%\n"
          ]
        }
      ]
    },
    {
      "cell_type": "markdown",
      "source": [
        "####TF-IDF + SVM"
      ],
      "metadata": {
        "id": "XqcK0aa5G6oE"
      }
    },
    {
      "cell_type": "code",
      "source": [
        "tfidf = TfidfVectorizer(max_features=5000)\n",
        "X_tfidf = tfidf.fit_transform(clean_df['text_akhir'])\n",
        "\n",
        "X_train2, X_test2, y_train2, y_test2 = train_test_split(X_tfidf, y_encoded, test_size=0.2, random_state=42)\n",
        "\n",
        "model2 = SVC(kernel='linear', C=1, probability=True)\n",
        "model2.fit(X_train2, y_train2)\n",
        "\n",
        "train_accuracy2 = model2.score(X_train2, y_train2)\n",
        "test_accuracy2 = model2.score(X_test2, y_test2)\n",
        "\n",
        "print(f\"Akurasi Training: {train_accuracy2*100:.2f}%\")\n",
        "print(f\"Akurasi Testing: {test_accuracy2*100:.2f}%\")"
      ],
      "metadata": {
        "colab": {
          "base_uri": "https://localhost:8080/"
        },
        "id": "KzZd04AEG-5b",
        "outputId": "c0f4e221-815e-42f9-e9d2-782e27167142"
      },
      "execution_count": 21,
      "outputs": [
        {
          "output_type": "stream",
          "name": "stdout",
          "text": [
            "Akurasi Training: 97.95%\n",
            "Akurasi Testing: 97.30%\n"
          ]
        }
      ]
    },
    {
      "cell_type": "markdown",
      "source": [
        "####CNN + LSTM + Word2Vec"
      ],
      "metadata": {
        "id": "GlcsE2FzHDzu"
      }
    },
    {
      "cell_type": "code",
      "source": [
        "sentences = [text.split() for text in clean_df['text_akhir']]\n",
        "w2v_model = Word2Vec(sentences, vector_size=100, window=5, min_count=1)\n",
        "\n",
        "embedding_matrix = np.zeros((10000, 100))\n",
        "for word, i in tokenizer.word_index.items():\n",
        "    if i >= 10000:\n",
        "        continue\n",
        "    try:\n",
        "        embedding_vector = w2v_model.wv[word]\n",
        "        embedding_matrix[i] = embedding_vector\n",
        "    except KeyError:\n",
        "        pass"
      ],
      "metadata": {
        "id": "gbTt_q4rHHOm"
      },
      "execution_count": 22,
      "outputs": []
    },
    {
      "cell_type": "code",
      "source": [
        "X_train3, X_test3, y_train3, y_test3 = train_test_split(X_pad, y_categorical, test_size=0.2, random_state=42)\n",
        "\n",
        "model3 = Sequential()\n",
        "model3.add(Embedding(input_dim=10000, output_dim=100, weights=[embedding_matrix], input_length=200, trainable=False))\n",
        "model3.add(Conv1D(128, 5, activation='relu'))\n",
        "model3.add(MaxPooling1D(pool_size=2))\n",
        "model3.add(LSTM(64))\n",
        "model3.add(Dropout(0.5))\n",
        "model3.add(Dense(2, activation='softmax'))\n",
        "\n",
        "model3.compile(loss='categorical_crossentropy', optimizer='adam', metrics=['accuracy'])\n",
        "model3.fit(X_train3, y_train3, epochs=10, batch_size=64, validation_data=(X_test3, y_test3))\n",
        "\n",
        "loss3_train, acc3_train = model3.evaluate(X_train3, y_train3, verbose=0)\n",
        "loss3_test, acc3_test = model3.evaluate(X_test3, y_test3, verbose=0)\n",
        "print(f\"Akurasi Training: {acc3_train*100:.2f}%\")\n",
        "print(f\"Akurasi Testing: {acc3_test*100:.2f}%\")"
      ],
      "metadata": {
        "colab": {
          "base_uri": "https://localhost:8080/"
        },
        "id": "aTNBlgM7HUrq",
        "outputId": "bd32c7d7-cb1d-477d-dae9-a286fd0f3951"
      },
      "execution_count": 23,
      "outputs": [
        {
          "output_type": "stream",
          "name": "stderr",
          "text": [
            "/usr/local/lib/python3.11/dist-packages/keras/src/layers/core/embedding.py:90: UserWarning: Argument `input_length` is deprecated. Just remove it.\n",
            "  warnings.warn(\n"
          ]
        },
        {
          "output_type": "stream",
          "name": "stdout",
          "text": [
            "Epoch 1/10\n",
            "\u001b[1m1951/1951\u001b[0m \u001b[32m━━━━━━━━━━━━━━━━━━━━\u001b[0m\u001b[37m\u001b[0m \u001b[1m441s\u001b[0m 224ms/step - accuracy: 0.8179 - loss: 0.3957 - val_accuracy: 0.8817 - val_loss: 0.2716\n",
            "Epoch 2/10\n",
            "\u001b[1m1951/1951\u001b[0m \u001b[32m━━━━━━━━━━━━━━━━━━━━\u001b[0m\u001b[37m\u001b[0m \u001b[1m452s\u001b[0m 230ms/step - accuracy: 0.8883 - loss: 0.2630 - val_accuracy: 0.8974 - val_loss: 0.2425\n",
            "Epoch 3/10\n",
            "\u001b[1m1951/1951\u001b[0m \u001b[32m━━━━━━━━━━━━━━━━━━━━\u001b[0m\u001b[37m\u001b[0m \u001b[1m492s\u001b[0m 224ms/step - accuracy: 0.9029 - loss: 0.2331 - val_accuracy: 0.9052 - val_loss: 0.2288\n",
            "Epoch 4/10\n",
            "\u001b[1m1951/1951\u001b[0m \u001b[32m━━━━━━━━━━━━━━━━━━━━\u001b[0m\u001b[37m\u001b[0m \u001b[1m448s\u001b[0m 230ms/step - accuracy: 0.9144 - loss: 0.2112 - val_accuracy: 0.9025 - val_loss: 0.2281\n",
            "Epoch 5/10\n",
            "\u001b[1m1951/1951\u001b[0m \u001b[32m━━━━━━━━━━━━━━━━━━━━\u001b[0m\u001b[37m\u001b[0m \u001b[1m501s\u001b[0m 229ms/step - accuracy: 0.9220 - loss: 0.1950 - val_accuracy: 0.9119 - val_loss: 0.2154\n",
            "Epoch 6/10\n",
            "\u001b[1m1951/1951\u001b[0m \u001b[32m━━━━━━━━━━━━━━━━━━━━\u001b[0m\u001b[37m\u001b[0m \u001b[1m448s\u001b[0m 229ms/step - accuracy: 0.9287 - loss: 0.1802 - val_accuracy: 0.9096 - val_loss: 0.2208\n",
            "Epoch 7/10\n",
            "\u001b[1m1951/1951\u001b[0m \u001b[32m━━━━━━━━━━━━━━━━━━━━\u001b[0m\u001b[37m\u001b[0m \u001b[1m502s\u001b[0m 230ms/step - accuracy: 0.9344 - loss: 0.1656 - val_accuracy: 0.9081 - val_loss: 0.2283\n",
            "Epoch 8/10\n",
            "\u001b[1m1951/1951\u001b[0m \u001b[32m━━━━━━━━━━━━━━━━━━━━\u001b[0m\u001b[37m\u001b[0m \u001b[1m447s\u001b[0m 229ms/step - accuracy: 0.9387 - loss: 0.1565 - val_accuracy: 0.9109 - val_loss: 0.2258\n",
            "Epoch 9/10\n",
            "\u001b[1m1951/1951\u001b[0m \u001b[32m━━━━━━━━━━━━━━━━━━━━\u001b[0m\u001b[37m\u001b[0m \u001b[1m502s\u001b[0m 229ms/step - accuracy: 0.9409 - loss: 0.1491 - val_accuracy: 0.9106 - val_loss: 0.2282\n",
            "Epoch 10/10\n",
            "\u001b[1m1951/1951\u001b[0m \u001b[32m━━━━━━━━━━━━━━━━━━━━\u001b[0m\u001b[37m\u001b[0m \u001b[1m502s\u001b[0m 229ms/step - accuracy: 0.9466 - loss: 0.1375 - val_accuracy: 0.9122 - val_loss: 0.2431\n",
            "Akurasi Training: 95.51%\n",
            "Akurasi Testing: 91.22%\n"
          ]
        }
      ]
    },
    {
      "cell_type": "markdown",
      "source": [
        "####Inference Testing"
      ],
      "metadata": {
        "id": "DWe8ePmKHLqq"
      }
    },
    {
      "cell_type": "markdown",
      "source": [
        "#####Inference Testing Model 1 (LSTM + Tokenizer)"
      ],
      "metadata": {
        "id": "_Stg7TawwC4L"
      }
    },
    {
      "cell_type": "code",
      "source": [
        "sample_text = [\"aplikasinya bagus dan mudah digunakan\"]\n",
        "\n",
        "sample_seq = tokenizer.texts_to_sequences(sample_text)\n",
        "sample_pad = pad_sequences(sample_seq, maxlen=200)\n",
        "\n",
        "prediction = model1.predict(sample_pad)\n",
        "predicted_class = np.argmax(prediction)\n",
        "\n",
        "reverse_label_mapping = {0: 'negative', 1: 'positive'}\n",
        "\n",
        "print(f\"Kalimat Uji: {sample_text[0]}\")\n",
        "print(f\"Prediksi Sentimen: {reverse_label_mapping[predicted_class]}\")\n"
      ],
      "metadata": {
        "colab": {
          "base_uri": "https://localhost:8080/"
        },
        "id": "uv98vd2KPcZy",
        "outputId": "2f83c09b-04a8-42b9-d86c-f97e0527f541"
      },
      "execution_count": 34,
      "outputs": [
        {
          "output_type": "stream",
          "name": "stdout",
          "text": [
            "\u001b[1m1/1\u001b[0m \u001b[32m━━━━━━━━━━━━━━━━━━━━\u001b[0m\u001b[37m\u001b[0m \u001b[1m0s\u001b[0m 69ms/step\n",
            "Kalimat Uji: aplikasinya bagus dan mudah digunakan\n",
            "Prediksi Sentimen: positive\n"
          ]
        }
      ]
    },
    {
      "cell_type": "markdown",
      "source": [
        "#####Inference Testing Model 2 (TF-IDF + SVM)"
      ],
      "metadata": {
        "id": "eHL-yC2FwMwx"
      }
    },
    {
      "cell_type": "code",
      "source": [
        "sample_text = [\"aplikasi sangat jelek dan sering error\"]\n",
        "\n",
        "sample_tfidf = tfidf.transform(sample_text)\n",
        "prediction = model2.predict(sample_tfidf)\n",
        "\n",
        "reverse_label_mapping = {0: 'negative', 1: 'positive'}\n",
        "\n",
        "print(f\"Kalimat Uji: {sample_text[0]}\")\n",
        "print(f\"Prediksi Sentimen: {reverse_label_mapping[int(prediction[0])]}\")"
      ],
      "metadata": {
        "colab": {
          "base_uri": "https://localhost:8080/"
        },
        "id": "kcJhDSbzHOsH",
        "outputId": "c9a7e711-0c11-4072-d165-823332904a33"
      },
      "execution_count": 36,
      "outputs": [
        {
          "output_type": "stream",
          "name": "stdout",
          "text": [
            "Kalimat Uji: aplikasi sangat jelek dan sering error\n",
            "Prediksi Sentimen: negative\n"
          ]
        }
      ]
    },
    {
      "cell_type": "markdown",
      "source": [
        "#####Inference Testing Model 3 (CNN + LSTM + Word2Vec)"
      ],
      "metadata": {
        "id": "GD-l5Ma0wVm3"
      }
    },
    {
      "cell_type": "code",
      "source": [
        "sample_text = [\"fitur aplikasinya sangat lengkap dan mudah digunakan\"]\n",
        "\n",
        "sample_seq = tokenizer.texts_to_sequences(sample_text)\n",
        "sample_pad = pad_sequences(sample_seq, maxlen=200)\n",
        "\n",
        "prediction = model3.predict(sample_pad)\n",
        "predicted_class = np.argmax(prediction, axis=1)\n",
        "\n",
        "reverse_label_mapping = {0: 'negative', 1: 'positive'}\n",
        "\n",
        "print(f\"Kalimat Uji: {sample_text[0]}\")\n",
        "print(f\"Prediksi Sentimen: {reverse_label_mapping[int(predicted_class[0])]}\")\n"
      ],
      "metadata": {
        "colab": {
          "base_uri": "https://localhost:8080/"
        },
        "id": "ua7l5zp0RAOm",
        "outputId": "450600cf-0ff5-4aff-b07a-5f579aef7ad7"
      },
      "execution_count": 38,
      "outputs": [
        {
          "output_type": "stream",
          "name": "stdout",
          "text": [
            "\u001b[1m1/1\u001b[0m \u001b[32m━━━━━━━━━━━━━━━━━━━━\u001b[0m\u001b[37m\u001b[0m \u001b[1m0s\u001b[0m 51ms/step\n",
            "Kalimat Uji: fitur aplikasinya sangat lengkap dan mudah digunakan\n",
            "Prediksi Sentimen: positive\n"
          ]
        }
      ]
    }
  ]
}